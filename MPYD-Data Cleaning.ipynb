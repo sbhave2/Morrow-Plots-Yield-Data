{
 "cells": [
  {
   "cell_type": "markdown",
   "metadata": {},
   "source": [
    "MORROW PLOTS YIELD DATA - DATA CLEANING"
   ]
  },
  {
   "cell_type": "markdown",
   "metadata": {},
   "source": [
    "This Jupyter Notebook documents the data cleaning proceess of the Morrow Plots Yield Data. The cleaning will be done with the help of Pandas Library. The documenation will also provide information on the provenance of the dataset."
   ]
  },
  {
   "cell_type": "markdown",
   "metadata": {},
   "source": []
  }
 ],
 "metadata": {
  "language_info": {
   "name": "python"
  }
 },
 "nbformat": 4,
 "nbformat_minor": 2
}
